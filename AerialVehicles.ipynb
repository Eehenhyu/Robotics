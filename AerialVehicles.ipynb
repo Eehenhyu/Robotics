{
 "cells": [
  {
   "cell_type": "markdown",
   "metadata": {},
   "source": [
    "# Aerial Vehicles"
   ]
  },
  {
   "cell_type": "markdown",
   "metadata": {},
   "source": [
    "There are many applications for these vihicles: mapping hazardous enviornments, scouting unknown/dangerous areas, studying areas while trying to be minimally invasive as possible, delivering supplies, performing inspections, creative/perspective use in film/photography,etc.\n",
    "\n",
    "There are different types of aerial vehicles, I'll focus on unmanned small units(drones). Drones can employ different algorithms to perform tasks without the need for human supervision,control, or intervention, but can also be completely controlled when needed. I'll go through some of these differences below.\n",
    "\n",
    "The design of the vehicle is also important as different designs have different limitations, for example: Fixed Wing drones can operate well in restricted paths but can't hover or turn quickly; Flapping Wing drones can hover but are complicated to program as we don't have easy models for avian/insect flight; Rotor Crafts are what I'll focus on since they can hover and have good manuverability(like a helicopter), and they're easier to model. \n",
    "\n",
    "** Key Concerns **\n",
    "\n",
    "1. State Estimation (position/velocity translational/angular)*\n",
    "2. Control (motors produce desired action for desired state)\n",
    "3. Mapping (sense enviornment)\n",
    "4. Planning (compute safe path from mapping)\n",
    "\n",
    "\\*Need Simultaneous Localization and Mapping (SLAM) to understand where the drone is in relation to its enviornment"
   ]
  },
  {
   "cell_type": "markdown",
   "metadata": {},
   "source": [
    "## Unmanned Aerial Vehicle"
   ]
  },
  {
   "cell_type": "markdown",
   "metadata": {},
   "source": [
    "** Drone - Quadrotor **\n",
    "\n",
    "This type of vehicle has 6 degrees of freedom(3 translational,3 rotational) since all the rotors operate independently(they also rotate clockwise/counter-clockwise parallel to one another).\n",
    "\n",
    "We'll go over the specifics of this vehicle:\n",
    "\n",
    "1. System Design \n",
    "2. Kinematics\n",
    "3. Dynamics\n",
    "4. Control\n",
    "5. Planning\n",
    "6. On-Board Estimation, Nonlinear Control, and Swarms"
   ]
  },
  {
   "cell_type": "markdown",
   "metadata": {},
   "source": [
    "### 1. System Design"
   ]
  },
  {
   "cell_type": "markdown",
   "metadata": {},
   "source": [
    "** Basic Mechanics **\n",
    "\n",
    " - The relationship between thrust force [F] and rotor speed[RPM or rad/s] is approx. quadratic: `F = k.f * w^2` where F=force, k.f=const. of prop., w^2 = omega sqaured(rad/s)\n",
    " - Every revolution of the motor also produces a drag force [M] which is also approx. quadratic: `M = k.m * w^2` where M=drag moment, k.m=const. of prop. ,w^2=rad/s\n",
    " - At equilibrium every rotor is supporting approx. 1/4 of the weight for a quadrotor: `W.0=1/4 * m * g` where W.0= initial weight, 1/4=since each rotor is 1 of 4, m=mass , g=gravity\n",
    " - By looking at the thrust vs rpm curve it's easy to determine what speed is required to produce 1/4 the weight which is the operating speed of the quadrotor, but this speed also produces a drag moment which every rotor has to overcome, so the motor has to produce enough torque to overcome this drag moment\n",
    " - \n",
    " \n",
    "** Control **\n",
    " - To measure height we use the following: \n",
    "\\begin{equation*} \n",
    "\\sum_{k=1}^4 k_F \\omega_k^2 + mg = ma \n",
    "\\end{equation*}"
   ]
  },
  {
   "cell_type": "code",
   "execution_count": null,
   "metadata": {},
   "outputs": [],
   "source": []
  }
 ],
 "metadata": {
  "kernelspec": {
   "display_name": "Python 3",
   "language": "python",
   "name": "python3"
  },
  "language_info": {
   "codemirror_mode": {
    "name": "ipython",
    "version": 3
   },
   "file_extension": ".py",
   "mimetype": "text/x-python",
   "name": "python",
   "nbconvert_exporter": "python",
   "pygments_lexer": "ipython3",
   "version": "3.6.5"
  }
 },
 "nbformat": 4,
 "nbformat_minor": 2
}
