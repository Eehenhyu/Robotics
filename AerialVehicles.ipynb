{
 "cells": [
  {
   "cell_type": "markdown",
   "metadata": {},
   "source": [
    "## Aerial Vehicles"
   ]
  },
  {
   "cell_type": "markdown",
   "metadata": {},
   "source": [
    "There are many applications for these vihicles: mapping hazardous enviornments, scouting unknown/dangerous areas, studying areas while trying to be minimally invasive as possible, delivering supplies, performing inspections, creative/perspective use in film/photography,etc.\n",
    "\n",
    "There are different types of aerial vehicles, I'll focus on unmanned small units(drones). Drones can employ different algorithms to perform tasks without the need for human supervision,control, or intervention, but can also be completely controlled when needed. I'll go through some of these differences below.\n",
    "\n",
    "The design of the vehicle is also important as different designs have different limitations, for example: Fixed Wing drones can operate well in restricted paths but can't hover or turn quickly; Flapping Wing drones can hover but are complicated to program as we don't have easy models for avian/insect flight; Rotor Crafts are what I'll focus on since they can hover and have good manuverability(like a helicopter), and they're easier to model."
   ]
  },
  {
   "cell_type": "code",
   "execution_count": null,
   "metadata": {},
   "outputs": [],
   "source": []
  }
 ],
 "metadata": {
  "kernelspec": {
   "display_name": "Python 3",
   "language": "python",
   "name": "python3"
  },
  "language_info": {
   "codemirror_mode": {
    "name": "ipython",
    "version": 3
   },
   "file_extension": ".py",
   "mimetype": "text/x-python",
   "name": "python",
   "nbconvert_exporter": "python",
   "pygments_lexer": "ipython3",
   "version": "3.6.5"
  }
 },
 "nbformat": 4,
 "nbformat_minor": 2
}
